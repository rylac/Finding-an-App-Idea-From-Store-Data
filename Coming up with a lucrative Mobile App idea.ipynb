{
 "cells": [
  {
   "cell_type": "markdown",
   "metadata": {},
   "source": [
    "# Coming up with a lucrative Mobile App idea - Ryan Lacarne\n",
    "based on 2018 Apple Store and Google Play app data.\n",
    "\n",
    "In this data science project, I will be trying to deduce which mobile apps are profitable based on App Store and Google Play Store data. Using this information, I will come up with an app idea of my own."
   ]
  },
  {
   "cell_type": "markdown",
   "metadata": {},
   "source": [
    "## Setting up the project"
   ]
  },
  {
   "cell_type": "markdown",
   "metadata": {},
   "source": [
    "First up, I will open the two datasets, ensuring they are in the right directory and can be called."
   ]
  },
  {
   "cell_type": "code",
   "execution_count": 3,
   "metadata": {},
   "outputs": [],
   "source": [
    "from csv import reader\n",
    "opened_file = open('googleplaystore.csv',encoding=\"utf8\")\n",
    "read_file = reader(opened_file)\n",
    "android = list(read_file)\n",
    "android_header = android[0]      # i set the header and body so they can be called at anytime.\n",
    "android = android[1:]\n",
    "\n",
    "opened_file = open('AppleStore.csv',encoding=\"utf8\")\n",
    "read_file = reader(opened_file)\n",
    "ios = list(read_file)\n",
    "ios_header = ios[0]\n",
    "ios = ios[1:]"
   ]
  },
  {
   "cell_type": "markdown",
   "metadata": {},
   "source": [
    "Next, I create the function `explore_data`."
   ]
  },
  {
   "cell_type": "code",
   "execution_count": 4,
   "metadata": {},
   "outputs": [],
   "source": [
    "def explore_data(dataset, start, end, rows_and_columns=False): \n",
    "    dataset_slice = dataset[start:end] # the `dataset_slice` variable allows me to explore specific slices.\n",
    "    for row in dataset_slice:\n",
    "        print(row)\n",
    "        print('\\n')\n",
    "\n",
    "    if rows_and_columns:    # this if statement will print the number of rows and columns if set to True.\n",
    "        print('Number of rows:', len(dataset))\n",
    "        print('Number of columns:', len(dataset[0]))"
   ]
  },
  {
   "cell_type": "markdown",
   "metadata": {},
   "source": [
    "Next, I print the first few columns of the Android data set to check that my `explore_data` function is working."
   ]
  },
  {
   "cell_type": "code",
   "execution_count": 5,
   "metadata": {
    "scrolled": true
   },
   "outputs": [
    {
     "name": "stdout",
     "output_type": "stream",
     "text": [
      "['App', 'Category', 'Rating', 'Reviews', 'Size', 'Installs', 'Type', 'Price', 'Content Rating', 'Genres', 'Last Updated', 'Current Ver', 'Android Ver']\n",
      "\n",
      "\n",
      "['Photo Editor & Candy Camera & Grid & ScrapBook', 'ART_AND_DESIGN', '4.1', '159', '19M', '10,000+', 'Free', '0', 'Everyone', 'Art & Design', 'January 7, 2018', '1.0.0', '4.0.3 and up']\n",
      "\n",
      "\n",
      "['Coloring book moana', 'ART_AND_DESIGN', '3.9', '967', '14M', '500,000+', 'Free', '0', 'Everyone', 'Art & Design;Pretend Play', 'January 15, 2018', '2.0.0', '4.0.3 and up']\n",
      "\n",
      "\n",
      "['U Launcher Lite – FREE Live Cool Themes, Hide Apps', 'ART_AND_DESIGN', '4.7', '87510', '8.7M', '5,000,000+', 'Free', '0', 'Everyone', 'Art & Design', 'August 1, 2018', '1.2.4', '4.0.3 and up']\n",
      "\n",
      "\n",
      "Number of rows: 10841\n",
      "Number of columns: 13\n"
     ]
    }
   ],
   "source": [
    "print (android_header)\n",
    "print('\\n')\n",
    "explore_data(android, 0, 3, True)"
   ]
  },
  {
   "cell_type": "markdown",
   "metadata": {},
   "source": [
    "This tells me we currently have 10841 apps in the Android data set."
   ]
  },
  {
   "cell_type": "markdown",
   "metadata": {},
   "source": [
    "Next, I print the first few columns of the Apple App store data set to doublecheck that my `explore_data` function is working."
   ]
  },
  {
   "cell_type": "code",
   "execution_count": 6,
   "metadata": {
    "scrolled": true
   },
   "outputs": [
    {
     "name": "stdout",
     "output_type": "stream",
     "text": [
      "['id', 'track_name', 'size_bytes', 'currency', 'price', 'rating_count_tot', 'rating_count_ver', 'user_rating', 'user_rating_ver', 'ver', 'cont_rating', 'prime_genre', 'sup_devices.num', 'ipadSc_urls.num', 'lang.num', 'vpp_lic']\n",
      "\n",
      "\n",
      "['284882215', 'Facebook', '389879808', 'USD', '0.0', '2974676', '212', '3.5', '3.5', '95.0', '4+', 'Social Networking', '37', '1', '29', '1']\n",
      "\n",
      "\n",
      "['389801252', 'Instagram', '113954816', 'USD', '0.0', '2161558', '1289', '4.5', '4.0', '10.23', '12+', 'Photo & Video', '37', '0', '29', '1']\n",
      "\n",
      "\n",
      "['529479190', 'Clash of Clans', '116476928', 'USD', '0.0', '2130805', '579', '4.5', '4.5', '9.24.12', '9+', 'Games', '38', '5', '18', '1']\n",
      "\n",
      "\n",
      "Number of rows: 7197\n",
      "Number of columns: 16\n"
     ]
    }
   ],
   "source": [
    "print (ios_header)\n",
    "print ('\\n')\n",
    "explore_data (ios,0,3,True)"
   ]
  },
  {
   "cell_type": "markdown",
   "metadata": {},
   "source": [
    "This tells me we currently have 7197 apps in the Apple App store data set."
   ]
  },
  {
   "cell_type": "markdown",
   "metadata": {},
   "source": [
    "From reading the comments on the page where I downloaded the [dataset](https://www.kaggle.com/lava18/google-play-store-apps/discussion/66015), I found out that there is an error and a missing value for \"Content Rating\" at `(android[10472])`, which is the app 'Life Made WI-Fi Touchscreen Photo Frame'. I don't want that, as it will surely give me errors down the line; so I will delete this line altogether."
   ]
  },
  {
   "cell_type": "code",
   "execution_count": 7,
   "metadata": {},
   "outputs": [
    {
     "name": "stdout",
     "output_type": "stream",
     "text": [
      "['Life Made WI-Fi Touchscreen Photo Frame', '1.9', '19', '3.0M', '1,000+', 'Free', '0', 'Everyone', '', 'February 11, 2018', '1.0.19', '4.0 and up']\n",
      "10840\n"
     ]
    }
   ],
   "source": [
    "print(android[10472])\n",
    "del android[10472]\n",
    "print (len(android))"
   ]
  },
  {
   "cell_type": "markdown",
   "metadata": {},
   "source": [
    "Therefore, the new number of apps in our Android dataset we are working with is 10840."
   ]
  },
  {
   "cell_type": "markdown",
   "metadata": {},
   "source": [
    "## Data Cleaning pt.1: Duplicates"
   ]
  },
  {
   "cell_type": "markdown",
   "metadata": {},
   "source": [
    "Now that that's out of the way, I want to start the data cleaning process.\n",
    "First, I'll deal with duplicates; because, at this point, I realized that there were many duplicate apps in both datasets. For example, in our Android dataset we had 4 different apps called \"Instagram\". "
   ]
  },
  {
   "cell_type": "code",
   "execution_count": 8,
   "metadata": {
    "scrolled": false
   },
   "outputs": [
    {
     "name": "stdout",
     "output_type": "stream",
     "text": [
      "['Instagram', 'SOCIAL', '4.5', '66577313', 'Varies with device', '1,000,000,000+', 'Free', '0', 'Teen', 'Social', 'July 31, 2018', 'Varies with device', 'Varies with device']\n",
      "['Instagram', 'SOCIAL', '4.5', '66577446', 'Varies with device', '1,000,000,000+', 'Free', '0', 'Teen', 'Social', 'July 31, 2018', 'Varies with device', 'Varies with device']\n",
      "['Instagram', 'SOCIAL', '4.5', '66577313', 'Varies with device', '1,000,000,000+', 'Free', '0', 'Teen', 'Social', 'July 31, 2018', 'Varies with device', 'Varies with device']\n",
      "['Instagram', 'SOCIAL', '4.5', '66509917', 'Varies with device', '1,000,000,000+', 'Free', '0', 'Teen', 'Social', 'July 31, 2018', 'Varies with device', 'Varies with device']\n"
     ]
    }
   ],
   "source": [
    "for app in android:\n",
    "    name = app[0]\n",
    "    if name == 'Instagram':\n",
    "        print(app)"
   ]
  },
  {
   "cell_type": "markdown",
   "metadata": {},
   "source": [
    "Therefore, I created a method to sort through all of the apps in the dataset, and put all of the ones that have a duplicate name together, and all of the apps with unique names together. "
   ]
  },
  {
   "cell_type": "code",
   "execution_count": 9,
   "metadata": {},
   "outputs": [
    {
     "name": "stdout",
     "output_type": "stream",
     "text": [
      "Number of duplicate apps: 1181\n",
      "Number of unique apps: 9659\n"
     ]
    }
   ],
   "source": [
    "duplicate_apps_android = []\n",
    "unique_apps_android = []\n",
    "\n",
    "for app in android:\n",
    "    name = app[0]\n",
    "    if name in unique_apps_android:\n",
    "        duplicate_apps_android.append(name)\n",
    "    else:\n",
    "        unique_apps_android.append(name)\n",
    "print ('Number of duplicate apps:',len(duplicate_apps_android))\n",
    "print ('Number of unique apps:', len(unique_apps_android))"
   ]
  },
  {
   "cell_type": "markdown",
   "metadata": {},
   "source": [
    "I found that there were 9659 apps with unique names, and 1181 with duplicate names. I want to get rid of some of these duplicates, but I don't want to delete duplicates randomly. What I will do instead, is keep the app with the most number of reviews, as that one is most likely to be genuine/relevant to our search."
   ]
  },
  {
   "cell_type": "markdown",
   "metadata": {},
   "source": [
    "To do this, I will create a dictionary where each key is a unique app name, and the corresponding value is the highest number of reviews of that app; after that, I will use this dictionary to create a new data set, which will only have one entry per app with duplicate names, and we will choose the app with the highest number of reviews to be added.\n"
   ]
  },
  {
   "cell_type": "code",
   "execution_count": 10,
   "metadata": {},
   "outputs": [],
   "source": [
    "reviews_max_android= {}\n",
    "for app in android:\n",
    "    name = app[0]\n",
    "    n_reviews_android = float(app[3])\n",
    "    \n",
    "    if name in reviews_max_android and reviews_max_android[name] < n_reviews_android:\n",
    "        reviews_max_android[name]= n_reviews_android\n",
    "    elif name not in reviews_max_android:\n",
    "        reviews_max_android[name]= n_reviews_android"
   ]
  },
  {
   "cell_type": "markdown",
   "metadata": {},
   "source": [
    "Now, let's use this dictionary on the Android dataset to remove the duplicates. As explained, we'll keep the entries with the highest number of reviews."
   ]
  },
  {
   "cell_type": "code",
   "execution_count": 11,
   "metadata": {},
   "outputs": [],
   "source": [
    "android_clean=[]\n",
    "already_added=[]\n",
    "\n",
    "for app in android:\n",
    "    name = app[0]\n",
    "    n_reviews_android = float(app[3])\n",
    "    if (reviews_max_android[name] == n_reviews_android) and (name not in already_added):\n",
    "        android_clean.append(app)\n",
    "        already_added.append(name)\n"
   ]
  },
  {
   "cell_type": "markdown",
   "metadata": {},
   "source": [
    "Next, we will check that this worked, and that our android_clean is truly void of duplicates. To do this, I will search for it's length, which I will expect it to be the same as `unique_apps` (9659), and also check for the \"Instagram\" name to see if there is only 1 Instagram now in our dataset."
   ]
  },
  {
   "cell_type": "code",
   "execution_count": 12,
   "metadata": {
    "scrolled": false
   },
   "outputs": [
    {
     "name": "stdout",
     "output_type": "stream",
     "text": [
      "The number of apps in our cleaned Android dataset is: 9659 .\n",
      "\n",
      "\n",
      "['Instagram', 'SOCIAL', '4.5', '66577446', 'Varies with device', '1,000,000,000+', 'Free', '0', 'Teen', 'Social', 'July 31, 2018', 'Varies with device', 'Varies with device']\n"
     ]
    }
   ],
   "source": [
    "android_clean_len = len(android_clean)\n",
    "print ('The number of apps in our cleaned Android dataset is:',android_clean_len,'.')\n",
    "print('\\n')\n",
    "for app in android_clean:\n",
    "    name = app[0]\n",
    "    if name == 'Instagram':\n",
    "        print(app)"
   ]
  },
  {
   "cell_type": "markdown",
   "metadata": {},
   "source": [
    "Alright, so that worked! 9659 values, and Instagram only appears once, and it's the Instagram that shows up is the one with the most reviews. Awesome. Now, let's do this again for the App Store. "
   ]
  },
  {
   "cell_type": "code",
   "execution_count": 13,
   "metadata": {},
   "outputs": [
    {
     "name": "stdout",
     "output_type": "stream",
     "text": [
      "Number of duplicate apps: 0\n",
      "Number of unique apps: 7197\n"
     ]
    }
   ],
   "source": [
    "duplicate_apps_ios = []\n",
    "unique_apps_ios = []\n",
    "\n",
    "for app in ios:\n",
    "    name = app[0]\n",
    "    if name in unique_apps_ios:\n",
    "        duplicate_apps_ios.append(name)\n",
    "    else:\n",
    "        unique_apps_ios.append(name)\n",
    "print ('Number of duplicate apps:',len(duplicate_apps_ios))\n",
    "print ('Number of unique apps:', len(unique_apps_ios))"
   ]
  },
  {
   "cell_type": "markdown",
   "metadata": {},
   "source": [
    "Running the first part of our code, where we check for duplicate names, shows us that we have no duplicates in the App store, and therefore we do not need to go any further and we may move on."
   ]
  },
  {
   "cell_type": "markdown",
   "metadata": {},
   "source": [
    "## Data Cleaning pt.2: Non-English Apps"
   ]
  },
  {
   "cell_type": "markdown",
   "metadata": {},
   "source": [
    "Next, as a part of our data cleaning process, I'll be getting rid of apps that have non-english names."
   ]
  },
  {
   "cell_type": "markdown",
   "metadata": {},
   "source": [
    "I know that the first 127 characters in the ASCII keyboard are used in the english keyboard. Therefore, I create a function that enables me to strings that contain characters outside of that. That will enable me to isolate non-english apps."
   ]
  },
  {
   "cell_type": "code",
   "execution_count": 14,
   "metadata": {},
   "outputs": [
    {
     "name": "stdout",
     "output_type": "stream",
     "text": [
      "True\n",
      "False\n",
      "False\n",
      "False\n"
     ]
    }
   ],
   "source": [
    "def is_english(string):\n",
    "    for character in (string):\n",
    "        if ord(character) > 127:\n",
    "            return False\n",
    "    return True\n",
    "\n",
    "print(is_english('Instagram'))\n",
    "print(is_english('爱奇艺PPS -《欢乐颂2》电视剧热播'))\n",
    "print(is_english('Docs To Go™ Free Office Suite'))\n",
    "print(is_english('Instachat 😜'))"
   ]
  },
  {
   "cell_type": "markdown",
   "metadata": {},
   "source": [
    "This is a good start, and it works; however if there's an emoji or one character that isn't Ascii, I would be ommitting those, and those apps aren't necessarily non-english. I don't want that, so Icreate a function that enables me to keep the apps that have up to 3 non ASCII characters, and we'll get rid of any apps that have more than 3. Sometimes, we just have to make decisions like this that will net us the most accurate results possible."
   ]
  },
  {
   "cell_type": "code",
   "execution_count": 15,
   "metadata": {},
   "outputs": [
    {
     "name": "stdout",
     "output_type": "stream",
     "text": [
      "True\n",
      "False\n",
      "True\n",
      "True\n"
     ]
    }
   ],
   "source": [
    "def is_english (string):\n",
    "    non_ascii = 0\n",
    "    \n",
    "    for character in string:\n",
    "        if ord(character) > 127:\n",
    "            non_ascii+=1\n",
    "    if non_ascii > 3:\n",
    "        return False\n",
    "    else:\n",
    "        return True\n",
    "\n",
    "print(is_english('Instagram'))\n",
    "print(is_english('爱奇艺PPS -《欢乐颂2》电视剧热播'))\n",
    "print(is_english('Docs To Go™ Free Office Suite'))\n",
    "print(is_english('Instachat 😜'))"
   ]
  },
  {
   "cell_type": "markdown",
   "metadata": {},
   "source": [
    "I'm happy with my new and improved `is_english` function. I'll run that through both of my datasets."
   ]
  },
  {
   "cell_type": "code",
   "execution_count": 16,
   "metadata": {},
   "outputs": [
    {
     "name": "stdout",
     "output_type": "stream",
     "text": [
      "Number of rows: 9614\n",
      "Number of columns: 13\n",
      "\n",
      "\n",
      "Number of rows: 6183\n",
      "Number of columns: 16\n"
     ]
    }
   ],
   "source": [
    "android_english = []\n",
    "ios_english = []\n",
    "\n",
    "for app in android_clean:\n",
    "    name = app[0]\n",
    "    if is_english(name):\n",
    "        android_english.append(app)\n",
    "        \n",
    "for app in ios:\n",
    "    name = app[1]\n",
    "    if is_english(name):\n",
    "        ios_english.append(app)\n",
    "        \n",
    "explore_data (android_english, 0 , 0, True)\n",
    "print ('\\n')\n",
    "explore_data (ios_english, 0 , 0 , True)\n"
   ]
  },
  {
   "cell_type": "markdown",
   "metadata": {},
   "source": [
    "Now we can see that for Android, we are left with 9614 apps (from 9656), and for the Apple App store, we are left with 6183 apps (from 6197). "
   ]
  },
  {
   "cell_type": "markdown",
   "metadata": {},
   "source": [
    "## Data Cleaning pt.3: Isolating the Free Apps"
   ]
  },
  {
   "cell_type": "markdown",
   "metadata": {},
   "source": [
    "Next, I know that I want to create a free app, and therefore, I only want free apps to be a part of my analysis, and so I write a function that will create a new datasets with only the free apps in our existing, already \"cleaned twice\" dataset. I must always remember on this step to use the most current version of my dataset, and not the initial dataset to not lose the work I have done."
   ]
  },
  {
   "cell_type": "code",
   "execution_count": 17,
   "metadata": {},
   "outputs": [
    {
     "name": "stdout",
     "output_type": "stream",
     "text": [
      "The final number of Android apps is: 8863\n",
      "\n",
      "\n",
      "The final number of Apple Store apps is: 3222\n"
     ]
    }
   ],
   "source": [
    "android_en_free = []\n",
    "ios_en_free = []\n",
    "\n",
    "for app in android_english:\n",
    "    price = str(app[6])\n",
    "    if price == 'Free':\n",
    "        android_en_free.append(app)\n",
    "\n",
    "for app in ios_english:\n",
    "    price = float(app[4])\n",
    "    if price == 0.0:\n",
    "        ios_en_free.append(app)\n",
    "        \n",
    "\n",
    "android_final = android_en_free\n",
    "ios_final = ios_en_free\n",
    "\n",
    "print ('The final number of Android apps is:', len(android_final))\n",
    "print ('\\n')\n",
    "print ('The final number of Apple Store apps is:',len(ios_final))\n",
    "\n"
   ]
  },
  {
   "cell_type": "markdown",
   "metadata": {},
   "source": [
    "That was fairly easy. We now know that we are working with 8863 apps for Android, and 3222 for iPhone. We are satisfied with the level of cleaning that we have performed on our apps and are ready to move on to some calculations for analysis."
   ]
  },
  {
   "cell_type": "markdown",
   "metadata": {},
   "source": [
    "## Data Analysis pt. 1: Genres and Categories"
   ]
  },
  {
   "cell_type": "markdown",
   "metadata": {},
   "source": [
    "This is where the fun begins. (Yes, I just quoted Anakin Skywalker, sue me.)\n",
    "\n",
    "Our aim is to determine the kinds of apps that are likely to attract more users because our revenue is highly influenced by the number of people using our apps. Because our end goal is to add the app on both the App Store and Google Play, we need to find app profiles that are successful on both markets.\n",
    "\n",
    "In order to start narrowing down, I begin my analysis by getting a sense of the most common genres for each market. For this, I build a frequency table for the prime_genre column of the App Store data set, and the Genres and Category columns of the Google Play data set."
   ]
  },
  {
   "cell_type": "code",
   "execution_count": 18,
   "metadata": {
    "scrolled": true
   },
   "outputs": [],
   "source": [
    "def freq_table (dataset,index): ## I create a frequency table function with two inputs datasets and index\n",
    "    table = {}   ## I create an empty table dictionary\n",
    "    total = 0    ## I create an empty total, we initialize it baby\n",
    "    \n",
    "    for row in dataset: ## for each element in thedataset, which is a list of lists\n",
    "        total += 1      ## I add 1 to the total, which will essentially give us the total number of rows/datapoints\n",
    "        value = row[index] ## value will end up being the actual value in the dataset we're looking for\n",
    "        if value in table:\n",
    "            table[value] +=1\n",
    "        else:\n",
    "            table [value] = 1\n",
    "    \n",
    "    table_percentages = {}\n",
    "    for key in table: \n",
    "        percentage = (table[key]/total)*100\n",
    "        table_percentages[key] = percentage\n",
    "        \n",
    "    return table_percentages"
   ]
  },
  {
   "cell_type": "markdown",
   "metadata": {},
   "source": [
    "Next up, I create a function that will enable me to display this frequency table for datasets. "
   ]
  },
  {
   "cell_type": "code",
   "execution_count": 19,
   "metadata": {},
   "outputs": [],
   "source": [
    "def display_table(dataset, index):\n",
    "    table = freq_table(dataset, index)\n",
    "    table_display = []\n",
    "    for key in table:\n",
    "        key_val_as_tuple = (table[key], key)\n",
    "        table_display.append(key_val_as_tuple)\n",
    "        \n",
    "    table_sorted = sorted(table_display, reverse = True)\n",
    "    for entry in table_sorted:\n",
    "        print(entry[1], ':', entry[0])"
   ]
  },
  {
   "cell_type": "markdown",
   "metadata": {},
   "source": [
    "Now, I will run my two new functions on my datasets, as well as a quick few lines of my code that will tell me how many genres/categories are in each data set."
   ]
  },
  {
   "cell_type": "code",
   "execution_count": 20,
   "metadata": {
    "scrolled": true
   },
   "outputs": [
    {
     "name": "stdout",
     "output_type": "stream",
     "text": [
      "This dataset contains 23 genres/categories.\n",
      "Games : 58.16263190564867\n",
      "Entertainment : 7.883302296710118\n",
      "Photo & Video : 4.9658597144630665\n",
      "Education : 3.662321539416512\n",
      "Social Networking : 3.2898820608317814\n",
      "Shopping : 2.60707635009311\n",
      "Utilities : 2.5139664804469275\n",
      "Sports : 2.1415270018621975\n",
      "Music : 2.0484171322160147\n",
      "Health & Fitness : 2.0173805090006205\n",
      "Productivity : 1.7380509000620732\n",
      "Lifestyle : 1.5828677839851024\n",
      "News : 1.3345747982619491\n",
      "Travel : 1.2414649286157666\n",
      "Finance : 1.1173184357541899\n",
      "Weather : 0.8690254500310366\n",
      "Food & Drink : 0.8069522036002483\n",
      "Reference : 0.5586592178770949\n",
      "Business : 0.5276225946617008\n",
      "Book : 0.4345127250155183\n",
      "Navigation : 0.186219739292365\n",
      "Medical : 0.186219739292365\n",
      "Catalogs : 0.12414649286157665\n"
     ]
    }
   ],
   "source": [
    "freq_apple_genre = freq_table(ios_final, 11)\n",
    "freq_apple_genre_len = len(freq_apple_genre)\n",
    "print ('This dataset contains',freq_apple_genre_len,'genres/categories.')\n",
    "display_table(ios_final, 11) "
   ]
  },
  {
   "cell_type": "markdown",
   "metadata": {},
   "source": [
    "My intial thoughts when looking at the Apple App Store data:\n",
    "- Games are overly saturated holding a 58 percent share.\n",
    "- Entertainment Apps are not even a close second, holding 8 percent share. \n",
    "- Everything that comes after that is basically a gimme, holding between 5 and 0 percent shares. The genres are just so varied that it's hard at first glance to get a sense of some overarching trend of what sells (besides Games)."
   ]
  },
  {
   "cell_type": "code",
   "execution_count": 21,
   "metadata": {},
   "outputs": [
    {
     "name": "stdout",
     "output_type": "stream",
     "text": [
      "This dataset contains 33  genres/categories.\n",
      "FAMILY : 18.898792733837304\n",
      "GAME : 9.725826469592688\n",
      "TOOLS : 8.462146000225657\n",
      "BUSINESS : 4.592124562789123\n",
      "LIFESTYLE : 3.9038700214374367\n",
      "PRODUCTIVITY : 3.8925871601038025\n",
      "FINANCE : 3.7007785174320205\n",
      "MEDICAL : 3.5315355974275078\n",
      "SPORTS : 3.396141261423897\n",
      "PERSONALIZATION : 3.317161232088458\n",
      "COMMUNICATION : 3.2381812027530184\n",
      "HEALTH_AND_FITNESS : 3.0802211440821394\n",
      "PHOTOGRAPHY : 2.944826808078529\n",
      "NEWS_AND_MAGAZINES : 2.798149610741284\n",
      "SOCIAL : 2.6627552747376737\n",
      "TRAVEL_AND_LOCAL : 2.335552296062281\n",
      "SHOPPING : 2.245289405393208\n",
      "BOOKS_AND_REFERENCE : 2.1437436533904997\n",
      "DATING : 1.8616721200496444\n",
      "VIDEO_PLAYERS : 1.7939749520478394\n",
      "MAPS_AND_NAVIGATION : 1.399074805370642\n",
      "FOOD_AND_DRINK : 1.241114746699763\n",
      "EDUCATION : 1.1621347173643235\n",
      "ENTERTAINMENT : 0.9590432133589079\n",
      "LIBRARIES_AND_DEMO : 0.9364774906916393\n",
      "AUTO_AND_VEHICLES : 0.9251946293580051\n",
      "HOUSE_AND_HOME : 0.8236488773552973\n",
      "WEATHER : 0.8010831546880289\n",
      "EVENTS : 0.7108202640189552\n",
      "PARENTING : 0.6544059573507841\n",
      "ART_AND_DESIGN : 0.6431230960171499\n",
      "COMICS : 0.6205573733498815\n",
      "BEAUTY : 0.5979916506826132\n"
     ]
    }
   ],
   "source": [
    "freq_android_category = freq_table(android_final, 1)\n",
    "freq_android_category_len = len(freq_android_category)\n",
    "print ('This dataset contains',freq_android_category_len,' genres/categories.')\n",
    "display_table(android_final, 1) #category column for android"
   ]
  },
  {
   "cell_type": "code",
   "execution_count": 22,
   "metadata": {},
   "outputs": [
    {
     "name": "stdout",
     "output_type": "stream",
     "text": [
      "This dataset contains 114  genres/categories.\n",
      "Tools : 8.450863138892023\n",
      "Entertainment : 6.070179397495204\n",
      "Education : 5.348076272142616\n",
      "Business : 4.592124562789123\n",
      "Productivity : 3.8925871601038025\n",
      "Lifestyle : 3.8925871601038025\n",
      "Finance : 3.7007785174320205\n",
      "Medical : 3.5315355974275078\n",
      "Sports : 3.463838429425702\n",
      "Personalization : 3.317161232088458\n",
      "Communication : 3.2381812027530184\n",
      "Action : 3.102786866749408\n",
      "Health & Fitness : 3.0802211440821394\n",
      "Photography : 2.944826808078529\n",
      "News & Magazines : 2.798149610741284\n",
      "Social : 2.6627552747376737\n",
      "Travel & Local : 2.324269434728647\n",
      "Shopping : 2.245289405393208\n",
      "Books & Reference : 2.1437436533904997\n",
      "Simulation : 2.042197901387792\n",
      "Dating : 1.8616721200496444\n",
      "Arcade : 1.8503892587160102\n",
      "Video Players & Editors : 1.771409229380571\n",
      "Casual : 1.7601263680469368\n",
      "Maps & Navigation : 1.399074805370642\n",
      "Food & Drink : 1.241114746699763\n",
      "Puzzle : 1.128286133363421\n",
      "Racing : 0.9928917973598104\n",
      "Role Playing : 0.9364774906916393\n",
      "Libraries & Demo : 0.9364774906916393\n",
      "Auto & Vehicles : 0.9251946293580051\n",
      "Strategy : 0.9026289066907368\n",
      "House & Home : 0.8236488773552973\n",
      "Weather : 0.8010831546880289\n",
      "Events : 0.7108202640189552\n",
      "Adventure : 0.6769716800180525\n",
      "Comics : 0.6092745120162473\n",
      "Beauty : 0.5979916506826132\n",
      "Art & Design : 0.5979916506826132\n",
      "Parenting : 0.4964458986799052\n",
      "Card : 0.4513144533453684\n",
      "Casino : 0.42874873067809993\n",
      "Trivia : 0.4174658693444658\n",
      "Educational;Education : 0.3949001466771973\n",
      "Board : 0.38361728534356315\n",
      "Educational : 0.37233442400992894\n",
      "Education;Education : 0.33848584000902626\n",
      "Word : 0.25950581067358686\n",
      "Casual;Pretend Play : 0.2369400880063184\n",
      "Music : 0.20309150400541578\n",
      "Racing;Action & Adventure : 0.16924292000451313\n",
      "Puzzle;Brain Games : 0.16924292000451313\n",
      "Entertainment;Music & Video : 0.16924292000451313\n",
      "Casual;Brain Games : 0.1353943360036105\n",
      "Casual;Action & Adventure : 0.1353943360036105\n",
      "Arcade;Action & Adventure : 0.1241114746699763\n",
      "Action;Action & Adventure : 0.10154575200270789\n",
      "Educational;Pretend Play : 0.09026289066907367\n",
      "Simulation;Action & Adventure : 0.07898002933543948\n",
      "Parenting;Education : 0.07898002933543948\n",
      "Entertainment;Brain Games : 0.07898002933543948\n",
      "Board;Brain Games : 0.07898002933543948\n",
      "Parenting;Music & Video : 0.06769716800180525\n",
      "Educational;Brain Games : 0.06769716800180525\n",
      "Casual;Creativity : 0.06769716800180525\n",
      "Art & Design;Creativity : 0.06769716800180525\n",
      "Education;Pretend Play : 0.05641430666817105\n",
      "Role Playing;Pretend Play : 0.045131445334536835\n",
      "Education;Creativity : 0.045131445334536835\n",
      "Role Playing;Action & Adventure : 0.033848584000902626\n",
      "Puzzle;Action & Adventure : 0.033848584000902626\n",
      "Entertainment;Creativity : 0.033848584000902626\n",
      "Entertainment;Action & Adventure : 0.033848584000902626\n",
      "Educational;Creativity : 0.033848584000902626\n",
      "Educational;Action & Adventure : 0.033848584000902626\n",
      "Education;Music & Video : 0.033848584000902626\n",
      "Education;Brain Games : 0.033848584000902626\n",
      "Education;Action & Adventure : 0.033848584000902626\n",
      "Adventure;Action & Adventure : 0.033848584000902626\n",
      "Video Players & Editors;Music & Video : 0.022565722667268417\n",
      "Sports;Action & Adventure : 0.022565722667268417\n",
      "Simulation;Pretend Play : 0.022565722667268417\n",
      "Puzzle;Creativity : 0.022565722667268417\n",
      "Music;Music & Video : 0.022565722667268417\n",
      "Entertainment;Pretend Play : 0.022565722667268417\n",
      "Casual;Education : 0.022565722667268417\n",
      "Board;Action & Adventure : 0.022565722667268417\n",
      "Video Players & Editors;Creativity : 0.011282861333634209\n",
      "Trivia;Education : 0.011282861333634209\n",
      "Travel & Local;Action & Adventure : 0.011282861333634209\n",
      "Tools;Education : 0.011282861333634209\n",
      "Strategy;Education : 0.011282861333634209\n",
      "Strategy;Creativity : 0.011282861333634209\n",
      "Strategy;Action & Adventure : 0.011282861333634209\n",
      "Simulation;Education : 0.011282861333634209\n",
      "Role Playing;Brain Games : 0.011282861333634209\n",
      "Racing;Pretend Play : 0.011282861333634209\n",
      "Puzzle;Education : 0.011282861333634209\n",
      "Parenting;Brain Games : 0.011282861333634209\n",
      "Music & Audio;Music & Video : 0.011282861333634209\n",
      "Lifestyle;Pretend Play : 0.011282861333634209\n",
      "Lifestyle;Education : 0.011282861333634209\n",
      "Health & Fitness;Education : 0.011282861333634209\n",
      "Health & Fitness;Action & Adventure : 0.011282861333634209\n",
      "Entertainment;Education : 0.011282861333634209\n",
      "Communication;Creativity : 0.011282861333634209\n",
      "Comics;Creativity : 0.011282861333634209\n",
      "Casual;Music & Video : 0.011282861333634209\n",
      "Card;Action & Adventure : 0.011282861333634209\n",
      "Books & Reference;Education : 0.011282861333634209\n",
      "Art & Design;Pretend Play : 0.011282861333634209\n",
      "Art & Design;Action & Adventure : 0.011282861333634209\n",
      "Arcade;Pretend Play : 0.011282861333634209\n",
      "Adventure;Education : 0.011282861333634209\n"
     ]
    }
   ],
   "source": [
    "freq_android_genre = freq_table(android_final, -4)\n",
    "freq_android_genre_len = len(freq_android_genre)\n",
    "print ('This dataset contains',freq_android_genre_len,' genres/categories.')\n",
    "display_table(android_final, -4) #genre column for android"
   ]
  },
  {
   "cell_type": "markdown",
   "metadata": {},
   "source": [
    "My intial thoughts when looking at the Android Store data:\n",
    "- The genre column is extremely granular, with 114 different genres. Therefore I will focus on the category column. \n",
    "- Family apps dominate the dataset, with 19 percent, double the share of \"Games\". This shows us something quite different from the Apple App Store, and something could be said about the types of people that own iPhones vs the types of people who own Androids, from this simple metric; but that doesn't really help us right now, as we are looking to create an app that would find success in both stores."
   ]
  },
  {
   "cell_type": "markdown",
   "metadata": {},
   "source": [
    "Up to this point, we found that the App Store is dominated by apps designed for fun, while Google Play shows a more balanced landscape of both practical and for-fun apps, yet dominated by the family genre. \n",
    "\n",
    "From this, I'm starting to formulate a good idea of the app market; the \"Games\" apps market is incredibly saturated, and just because it is dominant, does definitely not mean that it is a promising market to try to break into, as there is a large amount of supply. Instead, I think I will be focusing on some of the less represented genres, as I believe there would be higher demand there due to the lower supply. \n",
    "\n",
    "But first, let's do some further analysis on our datasets."
   ]
  },
  {
   "cell_type": "markdown",
   "metadata": {},
   "source": [
    "## Data Analysis pt. 2: Number of Users"
   ]
  },
  {
   "cell_type": "raw",
   "metadata": {},
   "source": [
    "One way to find out what genres are the most popular (have the most users) is to calculate the average number of installs for each app genre. For the Android data set, I can find this information in the Installs column, but for the App Store data set this information is missing. I'll need to do this myself. What I can do, is calculate the average number of user ratings per app genre."
   ]
  },
  {
   "cell_type": "code",
   "execution_count": 37,
   "metadata": {
    "scrolled": false
   },
   "outputs": [
    {
     "name": "stdout",
     "output_type": "stream",
     "text": [
      "Social Networking : 71548.34905660378\n",
      "Photo & Video : 28441.54375\n",
      "Games : 22788.6696905016\n",
      "Music : 57326.530303030304\n",
      "Reference : 74942.11111111111\n",
      "Health & Fitness : 23298.015384615384\n",
      "Weather : 52279.892857142855\n",
      "Utilities : 18684.456790123455\n",
      "Travel : 28243.8\n",
      "Shopping : 26919.690476190477\n",
      "News : 21248.023255813954\n",
      "Navigation : 86090.33333333333\n",
      "Lifestyle : 16485.764705882353\n",
      "Entertainment : 14029.830708661417\n",
      "Food & Drink : 33333.92307692308\n",
      "Sports : 23008.898550724636\n",
      "Book : 39758.5\n",
      "Finance : 31467.944444444445\n",
      "Education : 7003.983050847458\n",
      "Productivity : 21028.410714285714\n",
      "Business : 7491.117647058823\n",
      "Catalogs : 4004.0\n",
      "Medical : 612.0\n"
     ]
    }
   ],
   "source": [
    "genres_ios = freq_table(ios_final, 11)\n",
    "\n",
    "for genre in genres_ios:\n",
    "    total = 0\n",
    "    len_genre = 0\n",
    "    for app in ios_final:\n",
    "        genre_app = app[11]\n",
    "        if genre_app == genre:            \n",
    "            n_ratings = float(app[5])\n",
    "            total += n_ratings\n",
    "            len_genre += 1\n",
    "    avg_n_ratings = total / len_genre\n",
    "    print(genre, ':', avg_n_ratings)\n",
    "\n"
   ]
  },
  {
   "cell_type": "markdown",
   "metadata": {},
   "source": [
    "From this, I can see that Navigation apps have the highest number of user reviews, at 86090 reviews, followed by Reference Apps, at 74942 reviews. I want to know more about these genres, and see how they are distributed in terms of which apps they are comprised of, to see how competitive they are, or if certain apps have a large monopoly."
   ]
  },
  {
   "cell_type": "code",
   "execution_count": 65,
   "metadata": {
    "scrolled": true
   },
   "outputs": [
    {
     "name": "stdout",
     "output_type": "stream",
     "text": [
      "Navigation apps in Apple Store:\n",
      "\n",
      "\n",
      "Waze - GPS Navigation, Maps & Real-time Traffic : 345046\n",
      "Google Maps - Navigation & Transit : 154911\n",
      "Geocaching® : 12811\n",
      "CoPilot GPS – Car Navigation & Offline Maps : 3582\n",
      "ImmobilienScout24: Real Estate Search in Germany : 187\n",
      "Railway Route Search : 5\n"
     ]
    }
   ],
   "source": [
    "print ('Navigation apps in Apple Store:')\n",
    "print ('\\n')\n",
    "for app in ios_final:\n",
    "    if app[11] == 'Navigation':\n",
    "        print (app[1], ':', app[5])"
   ]
  },
  {
   "cell_type": "markdown",
   "metadata": {},
   "source": [
    "As I could have easily expected, the \"Navigation\" genre is largely dominated by Waze and Google Maps, and if I'm honest I do not wish to try and compete with those two, as I lack the knowledge, capital, or infrastructure to do so. Maybe one day. But not today."
   ]
  },
  {
   "cell_type": "code",
   "execution_count": 64,
   "metadata": {
    "scrolled": true
   },
   "outputs": [
    {
     "name": "stdout",
     "output_type": "stream",
     "text": [
      "Reference apps in Apple Store:\n",
      "\n",
      "\n",
      "Bible : 985920\n",
      "Dictionary.com Dictionary & Thesaurus : 200047\n",
      "Dictionary.com Dictionary & Thesaurus for iPad : 54175\n",
      "Google Translate : 26786\n",
      "Muslim Pro: Ramadan 2017 Prayer Times, Azan, Quran : 18418\n",
      "New Furniture Mods - Pocket Wiki & Game Tools for Minecraft PC Edition : 17588\n",
      "Merriam-Webster Dictionary : 16849\n",
      "Night Sky : 12122\n",
      "City Maps for Minecraft PE - The Best Maps for Minecraft Pocket Edition (MCPE) : 8535\n",
      "LUCKY BLOCK MOD ™ for Minecraft PC Edition - The Best Pocket Wiki & Mods Installer Tools : 4693\n",
      "GUNS MODS for Minecraft PC Edition - Mods Tools : 1497\n",
      "Guides for Pokémon GO - Pokemon GO News and Cheats : 826\n",
      "WWDC : 762\n",
      "Horror Maps for Minecraft PE - Download The Scariest Maps for Minecraft Pocket Edition (MCPE) Free : 718\n",
      "VPN Express : 14\n",
      "Real Bike Traffic Rider Virtual Reality Glasses : 8\n",
      "教えて!goo : 0\n",
      "Jishokun-Japanese English Dictionary & Translator : 0\n"
     ]
    }
   ],
   "source": [
    "print ('Reference apps in Apple Store:')\n",
    "print ('\\n')\n",
    "for app in ios_final:\n",
    "    if app[-5] == 'Reference':\n",
    "        print(app[1], ':', app[5])"
   ]
  },
  {
   "cell_type": "markdown",
   "metadata": {},
   "source": [
    "In the \"Reference\" genre, we have a more granular spread, and this genre shows some promise. I see that by far, the top App is the \"Bible\" app, and not far from it, in fifth position, is \"Muslim Pro\". What is missing is the third monotheistic religion, Judaism. Perhaps there is an opportunity here to create a \"Torah\" app. But honestly, I'm absolutely not qualified to undertake such a project, so I will continue exploring other genres."
   ]
  },
  {
   "cell_type": "markdown",
   "metadata": {},
   "source": [
    "I'm very interested in the productivity genre, as I actually have an app idea for a productivity app and it has a promising number of average user ratings at 21078. Therefore I will break it down further and see what apps comprise it."
   ]
  },
  {
   "cell_type": "code",
   "execution_count": 63,
   "metadata": {},
   "outputs": [
    {
     "name": "stdout",
     "output_type": "stream",
     "text": [
      "Productivity apps in Apple Store:\n",
      "\n",
      "\n",
      "Evernote - stay organized : 161065\n",
      "Gmail - email by Google: secure, fast & organized : 135962\n",
      "iTranslate - Language Translator & Dictionary : 123215\n",
      "Yahoo Mail - Keeps You Organized! : 113709\n",
      "Google Docs : 64259\n",
      "Google Drive - free online storage : 59255\n",
      "Dropbox : 49578\n",
      "Microsoft Word : 47999\n",
      "Microsoft OneNote : 39638\n",
      "Microsoft Outlook - email and calendar : 32807\n",
      "Hotspot Shield Free VPN Proxy & Wi-Fi Privacy : 32499\n",
      "Documents 6 - File manager, PDF reader and browser : 29110\n",
      "Google Sheets : 24602\n",
      "Microsoft Excel : 24430\n",
      "Inbox by Gmail : 21561\n",
      "T-Mobile : 19977\n",
      "Paper by FiftyThree - Sketch, Diagram, Take Notes : 18219\n",
      "MyScript Calculator - Handwriting calculator : 16555\n",
      "VPN Proxy Master - Unlimited WiFi security VPN : 13674\n",
      "Microsoft OneDrive – File & photo cloud storage : 12797\n",
      "Ever - Capture Your Memories : 12755\n",
      "Speak & Translate － Voice and Text Translator : 12062\n",
      "Tayasui Sketches : 11505\n",
      "Drawing Desk - Draw, Paint, Doodle & Sketch board : 11040\n",
      "Microsoft PowerPoint : 10939\n",
      "Email - Fast & Secure mail for Gmail iCloud Yahoo : 10778\n",
      "Google Slides : 9920\n",
      "HP All-in-One Printer Remote : 9819\n",
      "Google Calendar – Make the most of every day : 7656\n",
      "Verizon Cloud : 6482\n",
      "Free VPN HexaTech - Unlimited VPN Proxy for iPhone : 5934\n",
      "Productive habits & daily goals tracker : 4736\n",
      "Adobe Spark Video, Animated Videos in minutes : 4302\n",
      "Adobe Illustrator Draw : 3215\n",
      "Concepts - Sketch, Design, Illustrate : 3101\n",
      "Trello : 2793\n",
      "Adobe Spark Page — Create Stunning Web Pages : 2528\n",
      "Workflow: Powerful Automation Made Simple : 1498\n",
      "ATracker - Daily Task and Time Tracking : 1114\n",
      "Bear : 891\n",
      "Family Organizer - Calendar Planner : 828\n",
      "Fingerprint Login: PassKey Password & Apps Lock : 718\n",
      "360云盘 : 437\n",
      "Mail Master by NetEase : 361\n",
      "Content Transf : 299\n",
      "HOUND Voice Search & Assistant : 297\n",
      "AutoScout24 - mobile used & new car market : 220\n",
      "WEB.DE Mail : 168\n",
      "GMX Mail : 102\n",
      "MetaMoJi Note Lite : 93\n",
      "Infinite Painter : 65\n",
      "Jottit : 14\n",
      "Free QR Code Reader simply to scan a QR Code : 10\n",
      "Official QR Code reader \"Q\" - QR app. - : 0\n",
      "Digiposte + : 0\n",
      "BarcodeReader「ICONIT」 : 0\n"
     ]
    }
   ],
   "source": [
    "print ('Productivity apps in Apple Store:')\n",
    "print ('\\n')\n",
    "for app in ios_final:\n",
    "    if app[-5] == 'Productivity':\n",
    "        print(app[1], ':', app[5])"
   ]
  },
  {
   "cell_type": "markdown",
   "metadata": {},
   "source": [
    "The productivity genre is extremely granular, in that it has a large number of apps in it , but none of the top apps in there are actually direct competitors to my idea. They are all apps that relate to being more productive on your phone and having access to diffrent services such as Google Docs, Gmail, etc, but aren't actually apps that can help boost your productivity. Now that I think aboutit, there really aren't that many apps that can help with that, except, seemingly, with Evernote. It seems to be the only competitor in that space, and therefore I'm sure there would be high demand for such an app."
   ]
  },
  {
   "cell_type": "markdown",
   "metadata": {},
   "source": [
    "Next up, I take a look at the most popular apps by Genre in the Android Play store, to see if I am on the right track in terms of my idea of building a productivity app.\n",
    "Here, we already have installs as a column, as we are given the installs column in our dataset right off the bat."
   ]
  },
  {
   "cell_type": "code",
   "execution_count": 59,
   "metadata": {
    "scrolled": true
   },
   "outputs": [
    {
     "name": "stdout",
     "output_type": "stream",
     "text": [
      "1,000,000+ : 15.728308699086089\n",
      "100,000+ : 11.55365000564143\n",
      "10,000,000+ : 10.549475346947986\n",
      "10,000+ : 10.199706645605326\n",
      "1,000+ : 8.394448832223853\n",
      "100+ : 6.916393997517771\n",
      "5,000,000+ : 6.826131106848697\n",
      "500,000+ : 5.562450637481666\n",
      "50,000+ : 4.772650344127271\n",
      "5,000+ : 4.513144533453684\n",
      "10+ : 3.542818458761142\n",
      "500+ : 3.2494640640866526\n",
      "50,000,000+ : 2.3017037120613786\n",
      "100,000,000+ : 2.1324607920568655\n",
      "50+ : 1.9180864267178157\n",
      "5+ : 0.7898002933543946\n",
      "1+ : 0.5077287600135394\n",
      "500,000,000+ : 0.270788672007221\n",
      "1,000,000,000+ : 0.2256572266726842\n",
      "0+ : 0.045131445334536835\n"
     ]
    }
   ],
   "source": [
    "display_table(android_final, 5) # the Installs columns"
   ]
  },
  {
   "cell_type": "markdown",
   "metadata": {},
   "source": [
    "However, upon printing this column with our display_table function, we get a distribution for the number of installs, and not what genres they belong to. So, we need to create a new function to show us this. \n",
    "Additionally, if we want to perform computations on this data, we need to convert each install number to a float, and since these install numbers have commas and plus signs in them, we need to remove them. We'll do this using the built-in `replace` function."
   ]
  },
  {
   "cell_type": "code",
   "execution_count": 60,
   "metadata": {},
   "outputs": [
    {
     "name": "stdout",
     "output_type": "stream",
     "text": [
      "ART_AND_DESIGN : 1986335.0877192982\n",
      "AUTO_AND_VEHICLES : 647317.8170731707\n",
      "BEAUTY : 513151.88679245283\n",
      "BOOKS_AND_REFERENCE : 8767811.894736841\n",
      "BUSINESS : 1712290.1474201474\n",
      "COMICS : 817657.2727272727\n",
      "COMMUNICATION : 38456119.167247385\n",
      "DATING : 854028.8303030303\n",
      "EDUCATION : 1833495.145631068\n",
      "ENTERTAINMENT : 11640705.88235294\n",
      "EVENTS : 253542.22222222222\n",
      "FINANCE : 1387692.475609756\n",
      "FOOD_AND_DRINK : 1924897.7363636363\n",
      "HEALTH_AND_FITNESS : 4188821.9853479853\n",
      "HOUSE_AND_HOME : 1331540.5616438356\n",
      "LIBRARIES_AND_DEMO : 638503.734939759\n",
      "LIFESTYLE : 1437816.2687861272\n",
      "GAME : 15588015.603248259\n",
      "FAMILY : 3697848.1731343283\n",
      "MEDICAL : 120550.61980830671\n",
      "SOCIAL : 23253652.127118643\n",
      "SHOPPING : 7036877.311557789\n",
      "PHOTOGRAPHY : 17840110.40229885\n",
      "SPORTS : 3638640.1428571427\n",
      "TRAVEL_AND_LOCAL : 13984077.710144928\n",
      "TOOLS : 10801391.298666667\n",
      "PERSONALIZATION : 5201482.6122448975\n",
      "PRODUCTIVITY : 16787331.344927534\n",
      "PARENTING : 542603.6206896552\n",
      "WEATHER : 5074486.197183099\n",
      "VIDEO_PLAYERS : 24727872.452830188\n",
      "NEWS_AND_MAGAZINES : 9549178.467741935\n",
      "MAPS_AND_NAVIGATION : 4056941.7741935486\n"
     ]
    }
   ],
   "source": [
    "categories_android = freq_table(android_final, 1)\n",
    "\n",
    "for category in categories_android:\n",
    "    total = 0\n",
    "    len_category = 0\n",
    "    for app in android_final:\n",
    "        category_app = app[1]\n",
    "        if category_app == category:            \n",
    "            n_installs = app[5]\n",
    "            n_installs = n_installs.replace(',', '')\n",
    "            n_installs = n_installs.replace('+', '')\n",
    "            total += float(n_installs)\n",
    "            len_category += 1\n",
    "    avg_n_installs = total / len_category\n",
    "    print(category, ':', avg_n_installs)\n",
    "\n"
   ]
  },
  {
   "cell_type": "markdown",
   "metadata": {},
   "source": [
    "Once we've done that, we again have a clear picture of the number of installs per genre."
   ]
  },
  {
   "cell_type": "markdown",
   "metadata": {},
   "source": [
    "As I know that I am interested in building a productivity app, I am going to dive in to those and see what I can understand from this dataset."
   ]
  },
  {
   "cell_type": "code",
   "execution_count": 68,
   "metadata": {},
   "outputs": [
    {
     "name": "stdout",
     "output_type": "stream",
     "text": [
      "Productivity apps in Android Store:\n",
      "\n",
      "\n",
      "Microsoft Word : 500,000,000+\n",
      "All-In-One Toolbox: Cleaner, Booster, App Manager : 10,000,000+\n",
      "AVG Cleaner – Speed, Battery & Memory Booster : 10,000,000+\n",
      "QR Scanner & Barcode Scanner 2018 : 10,000,000+\n",
      "Chrome Beta : 10,000,000+\n",
      "Microsoft Outlook : 100,000,000+\n",
      "Google PDF Viewer : 10,000,000+\n",
      "My Claro Peru : 5,000,000+\n",
      "Power Booster - Junk Cleaner & CPU Cooler & Boost : 1,000,000+\n",
      "Google Assistant : 10,000,000+\n",
      "Microsoft OneDrive : 100,000,000+\n",
      "Calculator - unit converter : 50,000,000+\n",
      "Microsoft OneNote : 100,000,000+\n",
      "Metro name iD : 10,000,000+\n",
      "Google Keep : 100,000,000+\n",
      "Archos File Manager : 5,000,000+\n",
      "ES File Explorer File Manager : 100,000,000+\n",
      "ASUS SuperNote : 10,000,000+\n",
      "HTC File Manager : 10,000,000+\n",
      "MyMTN : 1,000,000+\n",
      "Dropbox : 500,000,000+\n",
      "ASUS Quick Memo : 10,000,000+\n",
      "HTC Calendar : 10,000,000+\n",
      "Google Docs : 100,000,000+\n",
      "ASUS Calling Screen : 10,000,000+\n",
      "lifebox : 5,000,000+\n",
      "Yandex.Disk : 5,000,000+\n",
      "Content Transfer : 5,000,000+\n",
      "HTC Mail : 10,000,000+\n",
      "Advanced Task Killer : 50,000,000+\n",
      "MyVodafone (India) - Online Recharge & Pay Bills : 10,000,000+\n",
      "Microsoft PowerPoint : 100,000,000+\n",
      "Microsoft Translator : 5,000,000+\n",
      "My Airtel-Online Recharge, Pay Bill, Wallet, UPI : 50,000,000+\n",
      "Samsung Notes : 100,000,000+\n",
      "Do It Later: Tasks & To-Dos : 50,000,000+\n",
      "Verizon Cloud : 50,000,000+\n",
      "myAT&T : 50,000,000+\n",
      "SwiftKey Keyboard : 100,000,000+\n",
      "Hacker's Keyboard : 1,000,000+\n",
      "MEGA : 50,000,000+\n",
      "Security & Privacy : 1,000,000+\n",
      "7 Weeks - Habit & Goal Tracker : 500,000+\n",
      "Loop - Habit Tracker : 1,000,000+\n",
      "TickTick: To Do List with Reminder, Day Planner : 1,000,000+\n",
      "Keeper: Free Password Manager & Secure Vault : 10,000,000+\n",
      "Pushbullet - SMS on PC : 1,000,000+\n",
      "Wunderlist: To-Do List & Tasks : 10,000,000+\n",
      "Planner Pro-Personal Organizer : 1,000,000+\n",
      "Todoist: To-do lists for task management & errands : 10,000,000+\n",
      "Cozi Family Organizer : 1,000,000+\n",
      "IFTTT : 1,000,000+\n",
      "Trello : 5,000,000+\n",
      "Easy Voice Recorder : 10,000,000+\n",
      "Dashlane Free Password Manager : 1,000,000+\n",
      "CM FILE MANAGER HD : 10,000,000+\n",
      "Solid Explorer Classic : 1,000,000+\n",
      "File Browser by Astro (File Manager) : 50,000,000+\n",
      "File Explorer : 100,000+\n",
      "The Maner : 5,000,000+\n",
      "AndroZip™ FREE File Manager : 10,000,000+\n",
      "Solid Explorer File Manager : 1,000,000+\n",
      "Smart File Manager : 1,000,000+\n",
      "Google Drive : 1,000,000,000+\n",
      "Adobe Acrobat Reader : 100,000,000+\n",
      "Google Sheets : 100,000,000+\n",
      "Microsoft Excel : 100,000,000+\n",
      "Polaris Office - Word, Docs, Sheets, Slide, PDF : 10,000,000+\n",
      "WPS Office - Word, Docs, PDF, Note, Slide & Sheet : 100,000,000+\n",
      "Google Slides : 100,000,000+\n",
      "ColorNote Notepad Notes : 100,000,000+\n",
      "Note Everything : 5,000,000+\n",
      "Simple Notepad : 1,000,000+\n",
      "Keep My Notes - Notepad & Memo : 5,000,000+\n",
      "Sticky Note + : Sync Notes : 1,000,000+\n",
      "Notepad : 10,000,000+\n",
      "Squid - Take Notes & Markup PDFs : 1,000,000+\n",
      "Ultimate Notepad : 5,000,000+\n",
      "Notepad & To do list : 10,000,000+\n",
      "JotterPad - Writer, Screenplay, Novel : 1,000,000+\n",
      "Evernote – Organizer, Planner for Notes & Memos : 100,000,000+\n",
      "Any.do: To-do list, Calendar, Reminders & Planner : 10,000,000+\n",
      "Planning Center Services : 500,000+\n",
      "Calendar+ Schedule Planner App : 1,000,000+\n",
      "Today Calendar 2017 : 1,000,000+\n",
      "To-Do Calendar Planner : 1,000,000+\n",
      "New Calendar : 1,000,000+\n",
      "Calendar Widget Month + Agenda : 5,000,000+\n",
      "DigiCal Calendar Agenda : 5,000,000+\n",
      "Time Recording - Timesheet App : 1,000,000+\n",
      "Jorte Calendar & Organizer : 10,000,000+\n",
      "Business Calendar 2 : 5,000,000+\n",
      "Google Calendar : 500,000,000+\n",
      "aCalendar - Android Phone : 10,000,000+\n",
      "G Cloud Backup : 5,000,000+\n",
      "Unclouded - Cloud Manager : 100,000+\n",
      "Amazon Drive : 1,000,000+\n",
      "SugarSync : 1,000,000+\n",
      "pCloud: Free Cloud Storage : 1,000,000+\n",
      "MediaFire : 5,000,000+\n",
      "Cloud Print : 500,000,000+\n",
      "Fake Call - Fake Caller ID : 10,000,000+\n",
      "AutoCAD - DWG Viewer & Editor : 10,000,000+\n",
      "Alt-C : 10,000+\n",
      "My C Spire : 50,000+\n",
      "Mobile Security & Antivirus : 10,000,000+\n",
      "EX File Explorer File Manager : 1,000,000+\n",
      "EBookDroid - PDF & DJVU Reader : 5,000,000+\n",
      "Inputting Plus: Ctrl + Z/F/C/V : 50,000+\n",
      "CTRL-F - Search the real world : 50,000+\n",
      "Larry H Miller Automotive : 10,000+\n",
      "Add-On: Alcatel (h) : 50,000+\n",
      "J. Polep Plus Mobile : 100+\n",
      "K-App Mitarbeiter Galeria Kaufhof : 100+\n",
      "Calculator L : 100,000+\n",
      "Emoji Android L Keyboard : 1,000,000+\n",
      "Mobizen Screen Recorder - Record, Capture, Edit : 50,000,000+\n",
      "Tap N Pay : 10,000+\n",
      "N Files - File Manager & Explorer : 10,000+\n",
      "WiFi-o-Matic : 50,000+\n",
      "Multiling O Keyboard + emoji : 1,000,000+\n",
      "Official QR Code® Reader \"Q\" : 500,000+\n",
      "Q Actions - Digital Assistant : 500+\n",
      "Q Link Wireless Zone : 500,000+\n",
      "R-net for Android : 5,000+\n",
      "Mat|r viewer : 100+\n",
      "S Note : 10,000,000+\n",
      "S’more - Earn Cash Rewards : 1,000,000+\n",
      "SH Script Runner : 50,000+\n",
      "AT&T Mobile Transfer : 10,000,000+\n",
      "T-Mobile Content Transfer : 500,000+\n",
      "Můj T-Mobile Business : 1,000,000+\n",
      "U Assist - Screen Mirroring & Sharing App : 50,000+\n",
      "U+Box : 10,000,000+\n",
      "NQ Mobile Security & Antivirus : 10,000,000+\n",
      "Air Conditioner Maintenance : 5,000+\n",
      "Remote Control For All AC - Universal Remote : 10,000+\n",
      "Ad Detect Plugin - Handy Tool : 500,000+\n",
      "Safe Notes - Secure Ad-free notepad : 50,000+\n",
      "Adblock Fast : 1,000,000+\n",
      "Google AdSense : 1,000,000+\n",
      "Best Applock - Locker & No Ads : 100,000+\n",
      "TIMBER AD FILTER - Very useful ad block app : 100,000+\n",
      "ESS Mobile for AE : 5,000+\n",
      "Trimble Ag Mobile : 10,000+\n",
      "Ag PhD Soils : 1,000+\n",
      "Ag Trucking Mobile App : 100+\n",
      "Ag Guardian : 100+\n",
      "My Ag Report : 50+\n",
      "Mix Tank – Tank Mixing Ag App : 10,000+\n",
      "Extreme- Personal Voice Assistant : 1,000,000+\n",
      "Puck AI Personal Assistant Robot : 1,000+\n",
      "Builder (by Engineer.ai) : 100+\n",
      "Friday: Smart Personal Assistant : 100,000+\n",
      "Lyra Virtual Assistant : 1,000,000+\n",
      "ai.Bot Box : 10,000+\n",
      "MiAI (Artificial Intelligence) Assistant : 100+\n",
      "Turbo AI™ - Personal assistant : 5,000+\n",
      "AI Sight : 1,000+\n",
      "AL Voice Recorder : 1,000,000+\n",
      "AP ENPS Mobile : 5,000+\n",
      "AQ Guards : 10+\n",
      "QR Droid : 50,000,000+\n",
      "Mind Map AR, Augmented Reality ARCore Mind Mapping : 5,000+\n",
      "PDF Viewer & Book Reader : 5,000,000+\n",
      "Alarm Clock: Stopwatch & Timer : 50,000,000+\n",
      "Total AV : 100,000+\n",
      "Mobile Security: Antivirus, Web Scan & App Lock : 10,000,000+\n",
      "Professional AV Solution & Products information : 1,000+\n",
      "Bits Watch Face : 100,000+\n",
      "Tips Microsoft Dynamics Ax : 500+\n",
      "Tips & Tricks Dynamics AX 365 : 100+\n",
      "A-Z App Store : 500,000+\n",
      "BA Calculator : 5,000+\n",
      "Town of Princeton, BC : 100+\n",
      "Electricity Bill Calculator BD : 10,000+\n",
      "BD Attendance : 1,000+\n",
      "BD Field Force : 1,000+\n",
      "BG+Phone Backup : 1,000+\n",
      "ALL-IN-ONE PACKAGE TRACKING : 1,000,000+\n",
      "MinT BI : 10+\n",
      "BJ Memo Widget : 50,000+\n",
      "SKIN BK : 10+\n",
      "BM Interventi : 10+\n",
      "BAMMS for BM 1Park : 50+\n",
      "BAMMS for BM SQ : 10+\n",
      "BN Inscript Improved Input keyboard : 10+\n",
      "Calendars (En, Bn, Ar) : 1,000+\n",
      "BN DB1 App : 50+\n",
      "BN Inscript Improved Keyboard : 10+\n",
      "Add-On: bq (a) : 5,000+\n",
      "Add-On: bq (c) : 1,000+\n",
      "Add-On: bq (b) : 1,000+\n",
      "BV Mobile Apps : 100+\n",
      "BW Ultra : 10+\n",
      "BW-IVMS : 100+\n",
      "IP address BW : 500+\n",
      "BW t&t : 10+\n",
      "BZ Dealer : 500+\n",
      "CA World '17 : 1,000+\n",
      "Register.ca Mobile : 100+\n",
      "CD Library : 10,000+\n",
      "APagri CD : 10+\n",
      "CE SODEXO PASS FRANCE : 50+\n",
      "ACCEPT CE MARKING : 10+\n",
      "CG - Calendars Add-On : 5,000+\n",
      "CG - Conference Call Add-On : 1,000+\n",
      "Somos CG : 100+\n",
      "My CG : 10+\n",
      "Chrome Canary (Unstable) : 1,000,000+\n",
      "CI Remote for Go : 100+\n",
      "IQ Test : 100,000+\n",
      "Thistletown CI : 100+\n",
      "CI Time : 100+\n",
      "CircleCI Viewer : 1,000+\n",
      "CI CAFETERIAS UBER : 100+\n",
      "CJ'S TIRE AND AUTO INC. : 100+\n",
      "Commission Manager : 1,000+\n",
      "CJ Wilson's ZoomZoomnation : 500+\n",
      "Inch/cm/Foot Conversion : 100,000+\n",
      "cm, mm to inch, feet converter tool : 100,000+\n",
      "Krypton by krypt.co : 1,000+\n",
      "Fayr - Co-Parenting Simplified : 1,000+\n",
      "CP Connect 2.0 : 500+\n",
      "CQ Ukraine : 10+\n",
      "CQ Electrical Group : 1+\n",
      "iReadMe : 100+\n",
      "Ultimate Calculator for CR : 500,000+\n",
      "Ultimate Chest Tracker : 1,000,000+\n",
      "CamScanner - Phone PDF Creator : 100,000,000+\n",
      "Bomb and Nade Timer for CS:GO : 5,000+\n",
      "Solar CT PV System Power : 10,000+\n",
      "CT CONNECT : 50+\n",
      "My CU - Caucasus University : 1,000+\n",
      "Resume & CV Creator by Desygner : 5,000+\n",
      "Resume Builder and CV maker app : 100,000+\n",
      "Resume Free : 1,000,000+\n",
      "Curriculum Vitae - Resume CV : 10,000+\n",
      "Pocket RxTx Free : 100,000+\n",
      "Cx Wize : 100+\n",
      "CONNECT: The Mobile CX Summit : 50+\n",
      "CX Summit : 50+\n",
      "CY Security Antivirus Cleaner : 1,000,000+\n",
      "Phone Clean Best Speed Booster : 1,000,000+\n",
      "LOCX Applock Lock Apps & Photo : 10,000,000+\n",
      "RoutePlan.cz : 100+\n",
      "DB Manager : 1,000+\n",
      "DF-Server Mobile : 100+\n",
      "DG Report Reminder : 10,000+\n",
      "DG Phone Call Task Switcher : 1,000+\n",
      "DG Users : 100+\n",
      "e-Boks.dk : 1,000,000+\n",
      "Download Manager Pro FREE : 100,000+\n",
      "Trimble DL : 10,000+\n",
      "IDM Internet Download Manager : 100,000+\n",
      "Shaggy's DM Assistant : 5+\n",
      "DN Events : 500+\n",
      "WFVS 2018 | WhatApp Full Video Status & Downloader : 50,000+\n",
      "Mahalaxmi Dindarshika 2018 : 1,000,000+\n",
      "Microsoft To-Do: List, Task & Reminder : 1,000,000+\n",
      "To Do List : 5,000,000+\n",
      "To Do Reminder with Alarm : 1,000,000+\n",
      "Ike - To-Do List, Task List : 100,000+\n",
      "My Effectiveness: To do, Tasks : 500,000+\n",
      "Do it (Tomorrow) : 1,000,000+\n",
      "Do Not Disturb : 100,000+\n",
      "To-Do List Widget : 1,000,000+\n",
      "NoteToDo. Notes. To do list : 1,000,000+\n",
      "Memory Helper - To do list, Notepad, Notes, Memo : 500,000+\n",
      "2Do - Reminders, To-do List & Notes : 100,000+\n",
      "Time Planner - Schedule, To-Do List, Time Tracker : 500,000+\n",
      "MyLifeOrganized: To-Do List : 100,000+\n",
      "Cal - Google Calendar + Widget : 1,000,000+\n",
      "Clean My House – Chore To Do List, Task Scheduler : 100,000+\n",
      "Goal Meter: Goal Tracker, Habit Changer,To-Do List : 100,000+\n",
      "To-do list : 50,000+\n",
      "Adobe Fill & Sign: Easy PDF Form Filler : 1,000,000+\n",
      "Dr.Android Repair Master 2017 : 100,000+\n",
      "DS file : 1,000,000+\n",
      "DS note : 100,000+\n",
      "DS cam : 500,000+\n",
      "Synology Drive : 100,000+\n",
      "DS-20000S : 1,000+\n",
      "DT Manager : 500+\n",
      "DT Freight : 1+\n",
      "Clean My Android : 5,000,000+\n",
      "APUS Booster - Space Cleaner & Booster : 10,000,000+\n",
      "DV Web Design Tips : 10+\n",
      "Dz Dinars Numbers to letters : 100,000+\n",
      "Numbers Into Words : 50,000+\n",
      "DZ Register : 1+\n",
      "Epson iProjection : 1,000,000+\n",
      "EB Scanner : 50+\n",
      "Exército Brasileiro : 100,000+\n",
      "ec-Work : 100+\n",
      "New Holland Agriculture T5 EC : 1,000+\n",
      "EC Taximeter : 10,000+\n",
      "EC QR : 10+\n",
      "EC Sampler : 1+\n",
      "SCS eC : 100+\n",
      "EF Staff : 100+\n",
      "EF Calculator : 1,000+\n",
      "eG Monitor : 100+\n",
      "EG : 100+\n",
      "EI! : 10+\n",
      "Sai Baba - Sabka Malik Ek : 1,000+\n",
      "Ek Vote : 500+\n",
      "Ginger Keyboard - Emoji, GIFs, Themes & Games : 5,000,000+\n",
      "EP Home Energy Hub : 100+\n",
      "EP Cloud : 10+\n",
      "ER Assist : 10+\n",
      "ES Disk Analyzer - Storage Space : 100,000+\n",
      "ES Material Theme for Pro : 1,000,000+\n",
      "ES Holo Theme for Pro : 500,000+\n",
      "ES Billing System (Offline App) : 100+\n",
      "ESLock File Recovery Lite : 50,000+\n",
      "iTranslate Translator & Dictionary : 10,000,000+\n",
      "EU Economy : 5,000+\n",
      "Eurostat Country Profiles : 10,000+\n",
      "EU Brazil Green Business Forum : 10+\n",
      "Simple EV Calc : 1,000+\n",
      "EY Team Connect : 50+\n",
      "EY ATL Fuel Calculator : 500+\n",
      "EY Events Switzerland : 500+\n",
      "EZ Inspections : 10,000+\n",
      "EZ Display : 50,000+\n",
      "EZ File Manager(Root Explorer) : 100,000+\n",
      "EZ Notes Lite : 1,000+\n",
      "EZ Switch Widget : 100,000+\n",
      "MultiMessage for FB Messenger : 50,000+\n",
      "IDM for Facebook ★ Downloader : 100,000+\n",
      "Chelsea FC Official Keyboard : 1,000,000+\n",
      "Avast Wi-Fi Finder : 1,000,000+\n",
      "Safe Wi-Fi : 1,000+\n",
      "Wi-Fi Networks : 10,000+\n",
      "Fast Notes FJ : 500+\n",
      "FK Events : 5+\n",
      "Charlotte County, FL : 1,000+\n",
      "FL House : 1,000+\n",
      "Florida Cooling Supply HVAC : 500+\n",
      "Fort Myers FL : 100+\n",
      "MY GULFPORT FL : 50+\n",
      "Future Cloud : 100,000+\n",
      "FQ METER : 1,000+\n",
      "PLMGSS FR : 10+\n"
     ]
    }
   ],
   "source": [
    "print ('Productivity apps in Android Store:')\n",
    "print ('\\n')\n",
    "for app in android_final:\n",
    "    if app[1] == 'PRODUCTIVITY':\n",
    "        print(app[0], ':', app[5])"
   ]
  },
  {
   "cell_type": "markdown",
   "metadata": {},
   "source": [
    "At first glance, just like in the App Store Productivity dataset, most of the apps that have large numbers of installs aren't actually apps that help you with productivity, but are actually tools that can be used to access different programs such as Dropbox, Google Docs, etc. Unfortunately, our results are still extremely granular, and quite hard to go through as it is so large. To see if there is another large competitor, I'm going to isolate only the apps with a substantial number of installs each (apps with 100,000,000 installs or more)."
   ]
  },
  {
   "cell_type": "code",
   "execution_count": 72,
   "metadata": {},
   "outputs": [
    {
     "name": "stdout",
     "output_type": "stream",
     "text": [
      "Microsoft Word : 500,000,000+\n",
      "Microsoft Outlook : 100,000,000+\n",
      "Microsoft OneDrive : 100,000,000+\n",
      "Microsoft OneNote : 100,000,000+\n",
      "Google Keep : 100,000,000+\n",
      "ES File Explorer File Manager : 100,000,000+\n",
      "Dropbox : 500,000,000+\n",
      "Google Docs : 100,000,000+\n",
      "Microsoft PowerPoint : 100,000,000+\n",
      "Samsung Notes : 100,000,000+\n",
      "SwiftKey Keyboard : 100,000,000+\n",
      "Google Drive : 1,000,000,000+\n",
      "Adobe Acrobat Reader : 100,000,000+\n",
      "Google Sheets : 100,000,000+\n",
      "Microsoft Excel : 100,000,000+\n",
      "WPS Office - Word, Docs, PDF, Note, Slide & Sheet : 100,000,000+\n",
      "Google Slides : 100,000,000+\n",
      "ColorNote Notepad Notes : 100,000,000+\n",
      "Evernote – Organizer, Planner for Notes & Memos : 100,000,000+\n",
      "Google Calendar : 500,000,000+\n",
      "Cloud Print : 500,000,000+\n",
      "CamScanner - Phone PDF Creator : 100,000,000+\n"
     ]
    }
   ],
   "source": [
    "for app in android_final:\n",
    "    if app[1] == 'PRODUCTIVITY' and (app[5] == '1,000,000,000+'\n",
    "                                      or app[5] == '500,000,000+'\n",
    "                                      or app[5] == '100,000,000+'):\n",
    "        print(app[0], ':', app[5])\n",
    "\n"
   ]
  },
  {
   "cell_type": "markdown",
   "metadata": {},
   "source": [
    "Unsurprisingly, Evernote appears again as the only genuine app that promotes productivity, the others all being tools. I think so far, this convinces me that I want to build a productivity app that rivals Evernote."
   ]
  },
  {
   "cell_type": "markdown",
   "metadata": {},
   "source": [
    "## Conclusion"
   ]
  },
  {
   "cell_type": "markdown",
   "metadata": {},
   "source": [
    "In this project, I cleaned and analyzed data from the App Store and the Andoird Play store for mobile apps with the goal of recommending an app profile that can be profitable for both markets.\n",
    "\n",
    "I concluded that even though productivity seems to be a large genre in both markets, the main productivity apps are actually tools and services such as Dropbox and Gmail and not apps that can actually help you be more productive. I find that there would be huge demand for an app of this sort, and realized that there is definitely space in both markets as the only large app currently with such an offering is Evernote. \n",
    "\n",
    "Therefore, my recommendation at the end of this project would be for someone to get started on working on an app that can help people be more productive using notes, reminders, planners, and the like. \n",
    "\n",
    "Will that someone be me? I guess we'll see."
   ]
  }
 ],
 "metadata": {
  "kernelspec": {
   "display_name": "Python 3",
   "language": "python",
   "name": "python3"
  },
  "language_info": {
   "codemirror_mode": {
    "name": "ipython",
    "version": 3
   },
   "file_extension": ".py",
   "mimetype": "text/x-python",
   "name": "python",
   "nbconvert_exporter": "python",
   "pygments_lexer": "ipython3",
   "version": "3.8.5"
  }
 },
 "nbformat": 4,
 "nbformat_minor": 4
}
